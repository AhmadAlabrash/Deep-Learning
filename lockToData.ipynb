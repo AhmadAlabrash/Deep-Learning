{
  "nbformat": 4,
  "nbformat_minor": 0,
  "metadata": {
    "colab": {
      "provenance": [],
      "collapsed_sections": [],
      "authorship_tag": "ABX9TyOn/HHCBtsAR4gcTl83sr9P",
      "include_colab_link": true
    },
    "kernelspec": {
      "name": "python3",
      "display_name": "Python 3"
    },
    "language_info": {
      "name": "python"
    }
  },
  "cells": [
    {
      "cell_type": "markdown",
      "metadata": {
        "id": "view-in-github",
        "colab_type": "text"
      },
      "source": [
        "<a href=\"https://colab.research.google.com/github/AhmadAlabrash/Deep-Learning/blob/main/lockToData.ipynb\" target=\"_parent\"><img src=\"https://colab.research.google.com/assets/colab-badge.svg\" alt=\"Open In Colab\"/></a>"
      ]
    },
    {
      "cell_type": "code",
      "source": [
        "pip install pandasql"
      ],
      "metadata": {
        "id": "VbmNvEGeODdI"
      },
      "execution_count": null,
      "outputs": []
    },
    {
      "cell_type": "code",
      "execution_count": 3,
      "metadata": {
        "id": "hLOQWhgTMdzo"
      },
      "outputs": [],
      "source": [
        "import numpy as np\n",
        "import pandas\n",
        "import matplotlib.pyplot as plt\n",
        "import pandasql\n"
      ]
    },
    {
      "cell_type": "code",
      "source": [
        "df = pandas.read_csv('/content/turnstile_data_master_with_weather.csv')\n",
        "df.rain"
      ],
      "metadata": {
        "colab": {
          "base_uri": "https://localhost:8080/"
        },
        "id": "ZjHr2tmUNF1_",
        "outputId": "c96ebad4-5ed5-447c-8f4f-80244fa96418"
      },
      "execution_count": 11,
      "outputs": [
        {
          "output_type": "execute_result",
          "data": {
            "text/plain": [
              "0         0.0\n",
              "1         0.0\n",
              "2         0.0\n",
              "3         0.0\n",
              "4         0.0\n",
              "         ... \n",
              "131946    1.0\n",
              "131947    1.0\n",
              "131948    1.0\n",
              "131949    1.0\n",
              "131950    1.0\n",
              "Name: rain, Length: 131951, dtype: float64"
            ]
          },
          "metadata": {},
          "execution_count": 11
        }
      ]
    },
    {
      "cell_type": "code",
      "source": [
        "\n",
        "\n",
        "q = 'select ENTRIESn_hourly from df where rain == 1.0'\n",
        "q2 = 'select ENTRIESn_hourly from df where rain == 0.0'\n",
        "res_rainning = pandasql.sqldf(q.lower(),locals())\n",
        "res_norainning = pandasql.sqldf(q2.lower(),locals())\n",
        "\n",
        "   "
      ],
      "metadata": {
        "id": "-oIThY-CUCuk"
      },
      "execution_count": 27,
      "outputs": []
    },
    {
      "cell_type": "code",
      "source": [
        "res_rainning.hist()\n",
        "res_norainning.hist()"
      ],
      "metadata": {
        "colab": {
          "base_uri": "https://localhost:8080/",
          "height": 582
        },
        "id": "4cv48JXNQOin",
        "outputId": "b812e960-bfcf-483a-b7ed-2177025cda74"
      },
      "execution_count": 28,
      "outputs": [
        {
          "output_type": "execute_result",
          "data": {
            "text/plain": [
              "array([[<matplotlib.axes._subplots.AxesSubplot object at 0x7f912456de10>]],\n",
              "      dtype=object)"
            ]
          },
          "metadata": {},
          "execution_count": 28
        },
        {
          "output_type": "display_data",
          "data": {
            "text/plain": [
              "<Figure size 432x288 with 1 Axes>"
            ],
            "image/png": "[encoded data removed]"
          },
          "metadata": {
            "needs_background": "light"
          }
        },
        {
          "output_type": "display_data",
          "data": {
            "text/plain": [
              "<Figure size 432x288 with 1 Axes>"
            ],
            "image/png": "[encoded data removed]"
          },
          "metadata": {
            "needs_background": "light"
          }
        }
      ]
    },
    {
      "cell_type": "code",
      "source": [
        "import numpy as np\n",
        "import pandas\n",
        "import matplotlib.pyplot as plt\n",
        "\n",
        "def entries_histogram(turnstile_weather):\n",
        "    '''\n",
        "    Before we perform any analysis, it might be useful to take a\n",
        "    look at the data we're hoping to analyze. More specifically, let's \n",
        "    examine the hourly entries in our NYC subway data and determine what\n",
        "    distribution the data follows. This data is stored in a dataframe\n",
        "    called turnstile_weather under the ['ENTRIESn_hourly'] column.\n",
        "    \n",
        "    Let's plot two histograms on the same axes to show hourly\n",
        "    entries when raining vs. when not raining. Here's an example on how\n",
        "    to plot histograms with pandas and matplotlib:\n",
        "    turnstile_weather['column_to_graph'].hist()\n",
        "    \n",
        "    Your histogram may look similar to bar graph in the instructor notes below.\n",
        "    \n",
        "    You can read a bit about using matplotlib and pandas to plot histograms here:\n",
        "    http://pandas.pydata.org/pandas-docs/stable/visualization.html#histograms\n",
        "    \n",
        "    You can see the information contained within the turnstile weather data here:\n",
        "    https://s3.amazonaws.com/content.udacity-data.com/courses/ud359/turnstile_data_master_with_weather.csv\n",
        "    '''\n",
        "    \n",
        "    plt.figure()\n",
        "    df = pandas.read_csv(turnstile_weather)\n",
        "    \n",
        "    q = 'select ENTRIESn_hourly from df where rain == 1.0'\n",
        "    q2 = 'select ENTRIESn_hourly from df where rain == 0.0'\n",
        "    res_rainning = pandasql.sqldf(q.lower(),locals())\n",
        "    res_norainning = pandasql.sqldf(q2.lower(),locals())\n",
        "\n",
        "    res_rainning.hist()\n",
        "    res_norainning.hist()\n",
        "\n",
        "\n",
        "    \n",
        "   #rnstile_weather['...'] # your code here to plot a historgram for hourly entries when it is not raining\n",
        "    return plt\n"
      ],
      "metadata": {
        "id": "Ruo4p31lSAaZ"
      },
      "execution_count": 21,
      "outputs": []
    },
    {
      "cell_type": "markdown",
      "source": [],
      "metadata": {
        "id": "hnJ0WwnKOeC7"
      }
    },
    {
      "cell_type": "code",
      "source": [
        "entries_histogram('/content/turnstile_data_master_with_weather.csv')"
      ],
      "metadata": {
        "colab": {
          "base_uri": "https://localhost:8080/",
          "height": 582
        },
        "id": "Cuq0c6XTSOlg",
        "outputId": "a9978406-8040-43bf-aec6-be437cd1d6c2"
      },
      "execution_count": 22,
      "outputs": [
        {
          "output_type": "execute_result",
          "data": {
            "text/plain": [
              "<module 'matplotlib.pyplot' from '/usr/local/lib/python3.7/dist-packages/matplotlib/pyplot.py'>"
            ]
          },
          "metadata": {},
          "execution_count": 22
        },
        {
          "output_type": "display_data",
          "data": {
            "text/plain": [
              "<Figure size 432x288 with 0 Axes>"
            ]
          },
          "metadata": {}
        },
        {
          "output_type": "display_data",
          "data": {
            "text/plain": [
              "<Figure size 432x288 with 1 Axes>"
            ],
            "image/png": "[encoded data removed]"
          },
          "metadata": {
            "needs_background": "light"
          }
        },
        {
          "output_type": "display_data",
          "data": {
            "text/plain": [
              "<Figure size 432x288 with 1 Axes>"
            ],
            "image/png": "[encoded data removed]"
          },
          "metadata": {
            "needs_background": "light"
          }
        }
      ]
    }
  ]
}