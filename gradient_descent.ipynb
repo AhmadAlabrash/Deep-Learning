{
  "nbformat": 4,
  "nbformat_minor": 0,
  "metadata": {
    "colab": {
      "provenance": [],
      "authorship_tag": "ABX9TyOgnISy8tZj9gCBsOs0jRtm",
      "include_colab_link": true
    },
    "kernelspec": {
      "name": "python3",
      "display_name": "Python 3"
    },
    "language_info": {
      "name": "python"
    }
  },
  "cells": [
    {
      "cell_type": "markdown",
      "metadata": {
        "id": "view-in-github",
        "colab_type": "text"
      },
      "source": [
        "<a href=\"https://colab.research.google.com/github/AhmadAlabrash/Deep-Learning/blob/main/gradient_descent.ipynb\" target=\"_parent\"><img src=\"https://colab.research.google.com/assets/colab-badge.svg\" alt=\"Open In Colab\"/></a>"
      ]
    },
    {
      "cell_type": "code",
      "execution_count": 45,
      "metadata": {
        "id": "nRRoqu8c3AIj"
      },
      "outputs": [],
      "source": [
        "import numpy\n",
        "import pandas\n",
        "\n",
        "def compute_cost(features, values, theta):\n",
        "    \"\"\"\n",
        "    Compute the cost of a list of parameters, theta, given a list of features \n",
        "    (input data points) and values (output data points).\n",
        "    \"\"\"\n",
        "    m = len(values)\n",
        "    sum_of_square_errors = numpy.square(numpy.dot(features, theta) - values).sum()\n",
        "    cost = sum_of_square_errors / (2*m)\n",
        "\n",
        "    return cost\n",
        "\n",
        "\n",
        "def gradient_descent(features, values, theta, alpha, num_iterations):\n",
        "    \"\"\"\n",
        "    Perform gradient descent given a data set with an arbitrary number of features.\n",
        "    \"\"\"\n",
        "\n",
        "    # Write code here that performs num_iterations updates to the elements of theta.\n",
        "    # times. Every time you compute the cost for a given list of thetas, append it \n",
        "    # to cost_history.\n",
        "    # See the Instructor notes for hints. \n",
        "    \n",
        "    cost_history = []\n",
        "    \n",
        "    for i in range(num_iterations) :\n",
        "       theta_old = theta\n",
        "       if theta > 2000 :\n",
        "         theta= theta -alpha\n",
        "       else :\n",
        "         theta= theta + alpha\n",
        "        \n",
        "       cost =compute_cost(features, values, theta)\n",
        "       cost_history.append(cost)\n",
        "       if i== 0 :\n",
        "        cost_history_old = cost_history[-1]\n",
        "       else :\n",
        "        cost_history_old = cost_history[-2]\n",
        "       \n",
        "       \n",
        "\n",
        "       if cost_history_old > cost :\n",
        "         theta = theta_old\n",
        "       else :\n",
        "         theta =theta-0 \n",
        "\n",
        "\n",
        "\n",
        "    ###########################\n",
        "    ### YOUR CODE GOES HERE ###\n",
        "    ###########################\n",
        "\n",
        "    return theta, pandas.Series(cost_history) # leave this line for the grader\n"
      ]
    },
    {
      "cell_type": "code",
      "source": [
        "df = pandas.read_csv('/content/baseball_stats.csv')\n",
        "\n",
        "x= df.iloc[:,4]\n",
        "\n",
        "y = df.iloc[:,5]\n",
        "\n",
        "theta =0.00008\n",
        "alpha = 0.1\n",
        "x.dtypes"
      ],
      "metadata": {
        "colab": {
          "base_uri": "https://localhost:8080/"
        },
        "id": "c7EVLm9a6_Hw",
        "outputId": "1700d04f-5730-450c-e573-71ee9a71194a"
      },
      "execution_count": 61,
      "outputs": [
        {
          "output_type": "execute_result",
          "data": {
            "text/plain": [
              "dtype('float64')"
            ]
          },
          "metadata": {},
          "execution_count": 61
        }
      ]
    },
    {
      "cell_type": "code",
      "source": [
        "compute_cost(x,y,theta)"
      ],
      "metadata": {
        "colab": {
          "base_uri": "https://localhost:8080/"
        },
        "id": "ANk8PFGm74FU",
        "outputId": "b8959bc7-2c16-45c5-85d8-7662784ca4c5"
      },
      "execution_count": 62,
      "outputs": [
        {
          "output_type": "execute_result",
          "data": {
            "text/plain": [
              "1356.6904368131115"
            ]
          },
          "metadata": {},
          "execution_count": 62
        }
      ]
    },
    {
      "cell_type": "code",
      "source": [
        "gradient_descent(x,y,theta,alpha,2220)"
      ],
      "metadata": {
        "colab": {
          "base_uri": "https://localhost:8080/"
        },
        "id": "czZKfDSN8czu",
        "outputId": "9d6eb08c-224a-44e2-c3fe-175645701edc"
      },
      "execution_count": 63,
      "outputs": [
        {
          "output_type": "execute_result",
          "data": {
            "text/plain": [
              "(132.40007999999676, 0       1356.282866\n",
              " 1       1355.875749\n",
              " 2       1355.875749\n",
              " 3       1355.469088\n",
              " 4       1355.469088\n",
              "            ...     \n",
              " 2215    1214.680870\n",
              " 2216    1214.873730\n",
              " 2217    1215.067045\n",
              " 2218    1215.260815\n",
              " 2219    1215.455040\n",
              " Length: 2220, dtype: float64)"
            ]
          },
          "metadata": {},
          "execution_count": 63
        }
      ]
    }
  ]
}