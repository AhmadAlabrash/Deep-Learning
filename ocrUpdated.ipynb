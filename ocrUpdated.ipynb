{
  "cells": [
    {
      "cell_type": "markdown",
      "metadata": {
        "id": "view-in-github",
        "colab_type": "text"
      },
      "source": [
        "<a href=\"https://colab.research.google.com/github/AhmadAlabrash/Deep-Learning/blob/main/ocrUpdated.ipynb\" target=\"_parent\"><img src=\"https://colab.research.google.com/assets/colab-badge.svg\" alt=\"Open In Colab\"/></a>"
      ]
    },
    {
      "cell_type": "code",
      "execution_count": null,
      "id": "4f63f252",
      "metadata": {
        "id": "4f63f252",
        "outputId": "19e3cae3-43ca-42a5-a9b3-9397662cd330"
      },
      "outputs": [
        {
          "name": "stdout",
          "output_type": "stream",
          "text": [
            "Collecting pytesseract\n",
            "  Downloading pytesseract-0.3.9-py2.py3-none-any.whl (14 kB)\n",
            "Collecting packaging>=21.3\n",
            "  Using cached packaging-21.3-py3-none-any.whl (40 kB)\n",
            "Requirement already satisfied: Pillow>=8.0.0 in c:\\users\\administrator\\anaconda3\\envs\\kwda\\lib\\site-packages (from pytesseract) (8.4.0)\n",
            "Requirement already satisfied: pyparsing!=3.0.5,>=2.0.2 in c:\\users\\administrator\\anaconda3\\envs\\kwda\\lib\\site-packages (from packaging>=21.3->pytesseract) (3.0.4)\n",
            "Installing collected packages: packaging, pytesseract\n",
            "  Attempting uninstall: packaging\n",
            "    Found existing installation: packaging 21.0\n",
            "    Uninstalling packaging-21.0:\n",
            "      Successfully uninstalled packaging-21.0\n",
            "Successfully installed packaging-21.3 pytesseract-0.3.9\n",
            "Note: you may need to restart the kernel to use updated packages.\n"
          ]
        }
      ],
      "source": [
        "pip install pytesseract"
      ]
    },
    {
      "cell_type": "code",
      "execution_count": null,
      "id": "195ada13",
      "metadata": {
        "id": "195ada13",
        "outputId": "c613ec9f-b61b-4b14-fbbb-3d54c565df9f"
      },
      "outputs": [
        {
          "name": "stdout",
          "output_type": "stream",
          "text": [
            "IE NOT\n",
            "NOW,\n",
            "WHEN?\n",
            "\n"
          ]
        }
      ],
      "source": [
        "import cv2\n",
        "import pytesseract\n",
        "\n",
        "pytesseract.pytesseract.tesseract_cmd = \"C:\\\\Program Files\\\\Tesseract-OCR\\\\tesseract.exe\"\n",
        "\n",
        "img = cv2.imread(\"2.jpg\")\n",
        "\n",
        "extract_text = pytesseract.image_to_string(img)\n",
        "\n",
        "print(extract_text)\n",
        "\n",
        "cv2.imshow(\"ocr\",img)"
      ]
    }
  ],
  "metadata": {
    "kernelspec": {
      "display_name": "Python 3 (ipykernel)",
      "language": "python",
      "name": "python3"
    },
    "language_info": {
      "codemirror_mode": {
        "name": "ipython",
        "version": 3
      },
      "file_extension": ".py",
      "mimetype": "text/x-python",
      "name": "python",
      "nbconvert_exporter": "python",
      "pygments_lexer": "ipython3",
      "version": "3.9.7"
    },
    "colab": {
      "name": "ocrUpdated.ipynb",
      "provenance": [],
      "include_colab_link": true
    }
  },
  "nbformat": 4,
  "nbformat_minor": 5
}