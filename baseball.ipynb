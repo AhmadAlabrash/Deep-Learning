{
  "nbformat": 4,
  "nbformat_minor": 0,
  "metadata": {
    "colab": {
      "provenance": [],
      "authorship_tag": "ABX9TyNdiBEsObEndLSSghdiQuRR",
      "include_colab_link": true
    },
    "kernelspec": {
      "name": "python3",
      "display_name": "Python 3"
    },
    "language_info": {
      "name": "python"
    }
  },
  "cells": [
    {
      "cell_type": "markdown",
      "metadata": {
        "id": "view-in-github",
        "colab_type": "text"
      },
      "source": [
        "<a href=\"https://colab.research.google.com/github/AhmadAlabrash/Deep-Learning/blob/main/baseball.ipynb\" target=\"_parent\"><img src=\"https://colab.research.google.com/assets/colab-badge.svg\" alt=\"Open In Colab\"/></a>"
      ]
    },
    {
      "cell_type": "code",
      "execution_count": 138,
      "metadata": {
        "id": "YeZmcuLDKPPE"
      },
      "outputs": [],
      "source": [
        "import pandas as pd\n",
        "import scipy.stats\n",
        "import numpy as np"
      ]
    },
    {
      "cell_type": "code",
      "source": [
        "df = pd.read_csv('/content/baseball_stats.csv')\n",
        "df.dropna"
      ],
      "metadata": {
        "colab": {
          "base_uri": "https://localhost:8080/"
        },
        "id": "t7wtX3bwKi3k",
        "outputId": "c248a049-a47a-43c9-c121-7011c4735acc"
      },
      "execution_count": 137,
      "outputs": [
        {
          "output_type": "execute_result",
          "data": {
            "text/plain": [
              "<bound method DataFrame.dropna of                name handedness height weight    avg   HR\n",
              "0      Brandon Hyde          R     75    210  0.000    0\n",
              "1       Carey Selph          R     69    175  0.277    0\n",
              "2      Philip Nastu          L     74    180  0.040    0\n",
              "3        Kent Hrbek          L     76    200  0.282  293\n",
              "4       Bill Risley          R     74    215  0.000    0\n",
              "...             ...        ...    ...    ...    ...  ...\n",
              "18172    Rob Nelson          L     76    215  0.178    4\n",
              "18173  Roger Nelson          R     75    200  0.128    0\n",
              "18174  Fred Luderus          L     71    185  0.277   84\n",
              "18175      Ed Glenn          R     70    160  0.202    1\n",
              "18176      Ed Glenn          R                0.067    0\n",
              "\n",
              "[18177 rows x 6 columns]>"
            ]
          },
          "metadata": {},
          "execution_count": 137
        }
      ]
    },
    {
      "cell_type": "code",
      "source": [
        "l = df[df.handedness == 'L']\n",
        "r =df[df.handedness == 'R']\n",
        "l.drop( ['name','handedness'],axis = 1)"
      ],
      "metadata": {
        "colab": {
          "base_uri": "https://localhost:8080/",
          "height": 424
        },
        "id": "fvul3fzlS_k-",
        "outputId": "33c2cd41-c77e-4297-e342-0dd477d5d5dc"
      },
      "execution_count": 139,
      "outputs": [
        {
          "output_type": "execute_result",
          "data": {
            "text/plain": [
              "      height weight    avg   HR\n",
              "2         74    180  0.040    0\n",
              "3         76    200  0.282  293\n",
              "9         73    190  0.153    2\n",
              "13        70    168  0.265   64\n",
              "15        73    190  0.175    0\n",
              "...      ...    ...    ...  ...\n",
              "18150     75    195  0.230   31\n",
              "18155     70    175  0.249   31\n",
              "18166     70    178  0.224    0\n",
              "18172     76    215  0.178    4\n",
              "18174     71    185  0.277   84\n",
              "\n",
              "[4696 rows x 4 columns]"
            ],
            "text/html": [
              "\n",
              "  <div id=\"df-06787359-9b6e-496b-995c-e6e205cf352f\">\n",
              "    <div class=\"colab-df-container\">\n",
              "      <div>\n",
              "<style scoped>\n",
              "    .dataframe tbody tr th:only-of-type {\n",
              "        vertical-align: middle;\n",
              "    }\n",
              "\n",
              "    .dataframe tbody tr th {\n",
              "        vertical-align: top;\n",
              "    }\n",
              "\n",
              "    .dataframe thead th {\n",
              "        text-align: right;\n",
              "    }\n",
              "</style>\n",
              "<table border=\"1\" class=\"dataframe\">\n",
              "  <thead>\n",
              "    <tr style=\"text-align: right;\">\n",
              "      <th></th>\n",
              "      <th>height</th>\n",
              "      <th>weight</th>\n",
              "      <th>avg</th>\n",
              "      <th>HR</th>\n",
              "    </tr>\n",
              "  </thead>\n",
              "  <tbody>\n",
              "    <tr>\n",
              "      <th>2</th>\n",
              "      <td>74</td>\n",
              "      <td>180</td>\n",
              "      <td>0.040</td>\n",
              "      <td>0</td>\n",
              "    </tr>\n",
              "    <tr>\n",
              "      <th>3</th>\n",
              "      <td>76</td>\n",
              "      <td>200</td>\n",
              "      <td>0.282</td>\n",
              "      <td>293</td>\n",
              "    </tr>\n",
              "    <tr>\n",
              "      <th>9</th>\n",
              "      <td>73</td>\n",
              "      <td>190</td>\n",
              "      <td>0.153</td>\n",
              "      <td>2</td>\n",
              "    </tr>\n",
              "    <tr>\n",
              "      <th>13</th>\n",
              "      <td>70</td>\n",
              "      <td>168</td>\n",
              "      <td>0.265</td>\n",
              "      <td>64</td>\n",
              "    </tr>\n",
              "    <tr>\n",
              "      <th>15</th>\n",
              "      <td>73</td>\n",
              "      <td>190</td>\n",
              "      <td>0.175</td>\n",
              "      <td>0</td>\n",
              "    </tr>\n",
              "    <tr>\n",
              "      <th>...</th>\n",
              "      <td>...</td>\n",
              "      <td>...</td>\n",
              "      <td>...</td>\n",
              "      <td>...</td>\n",
              "    </tr>\n",
              "    <tr>\n",
              "      <th>18150</th>\n",
              "      <td>75</td>\n",
              "      <td>195</td>\n",
              "      <td>0.230</td>\n",
              "      <td>31</td>\n",
              "    </tr>\n",
              "    <tr>\n",
              "      <th>18155</th>\n",
              "      <td>70</td>\n",
              "      <td>175</td>\n",
              "      <td>0.249</td>\n",
              "      <td>31</td>\n",
              "    </tr>\n",
              "    <tr>\n",
              "      <th>18166</th>\n",
              "      <td>70</td>\n",
              "      <td>178</td>\n",
              "      <td>0.224</td>\n",
              "      <td>0</td>\n",
              "    </tr>\n",
              "    <tr>\n",
              "      <th>18172</th>\n",
              "      <td>76</td>\n",
              "      <td>215</td>\n",
              "      <td>0.178</td>\n",
              "      <td>4</td>\n",
              "    </tr>\n",
              "    <tr>\n",
              "      <th>18174</th>\n",
              "      <td>71</td>\n",
              "      <td>185</td>\n",
              "      <td>0.277</td>\n",
              "      <td>84</td>\n",
              "    </tr>\n",
              "  </tbody>\n",
              "</table>\n",
              "<p>4696 rows × 4 columns</p>\n",
              "</div>\n",
              "      <button class=\"colab-df-convert\" onclick=\"convertToInteractive('df-06787359-9b6e-496b-995c-e6e205cf352f')\"\n",
              "              title=\"Convert this dataframe to an interactive table.\"\n",
              "              style=\"display:none;\">\n",
              "        \n",
              "  <svg xmlns=\"http://www.w3.org/2000/svg\" height=\"24px\"viewBox=\"0 0 24 24\"\n",
              "       width=\"24px\">\n",
              "    <path d=\"M0 0h24v24H0V0z\" fill=\"none\"/>\n",
              "    <path d=\"M18.56 5.44l.94 2.06.94-2.06 2.06-.94-2.06-.94-.94-2.06-.94 2.06-2.06.94zm-11 1L8.5 8.5l.94-2.06 2.06-.94-2.06-.94L8.5 2.5l-.94 2.06-2.06.94zm10 10l.94 2.06.94-2.06 2.06-.94-2.06-.94-.94-2.06-.94 2.06-2.06.94z\"/><path d=\"M17.41 7.96l-1.37-1.37c-.4-.4-.92-.59-1.43-.59-.52 0-1.04.2-1.43.59L10.3 9.45l-7.72 7.72c-.78.78-.78 2.05 0 2.83L4 21.41c.39.39.9.59 1.41.59.51 0 1.02-.2 1.41-.59l7.78-7.78 2.81-2.81c.8-.78.8-2.07 0-2.86zM5.41 20L4 18.59l7.72-7.72 1.47 1.35L5.41 20z\"/>\n",
              "  </svg>\n",
              "      </button>\n",
              "      \n",
              "  <style>\n",
              "    .colab-df-container {\n",
              "      display:flex;\n",
              "      flex-wrap:wrap;\n",
              "      gap: 12px;\n",
              "    }\n",
              "\n",
              "    .colab-df-convert {\n",
              "      background-color: #E8F0FE;\n",
              "      border: none;\n",
              "      border-radius: 50%;\n",
              "      cursor: pointer;\n",
              "      display: none;\n",
              "      fill: #1967D2;\n",
              "      height: 32px;\n",
              "      padding: 0 0 0 0;\n",
              "      width: 32px;\n",
              "    }\n",
              "\n",
              "    .colab-df-convert:hover {\n",
              "      background-color: #E2EBFA;\n",
              "      box-shadow: 0px 1px 2px rgba(60, 64, 67, 0.3), 0px 1px 3px 1px rgba(60, 64, 67, 0.15);\n",
              "      fill: #174EA6;\n",
              "    }\n",
              "\n",
              "    [theme=dark] .colab-df-convert {\n",
              "      background-color: #3B4455;\n",
              "      fill: #D2E3FC;\n",
              "    }\n",
              "\n",
              "    [theme=dark] .colab-df-convert:hover {\n",
              "      background-color: #434B5C;\n",
              "      box-shadow: 0px 1px 3px 1px rgba(0, 0, 0, 0.15);\n",
              "      filter: drop-shadow(0px 1px 2px rgba(0, 0, 0, 0.3));\n",
              "      fill: #FFFFFF;\n",
              "    }\n",
              "  </style>\n",
              "\n",
              "      <script>\n",
              "        const buttonEl =\n",
              "          document.querySelector('#df-06787359-9b6e-496b-995c-e6e205cf352f button.colab-df-convert');\n",
              "        buttonEl.style.display =\n",
              "          google.colab.kernel.accessAllowed ? 'block' : 'none';\n",
              "\n",
              "        async function convertToInteractive(key) {\n",
              "          const element = document.querySelector('#df-06787359-9b6e-496b-995c-e6e205cf352f');\n",
              "          const dataTable =\n",
              "            await google.colab.kernel.invokeFunction('convertToInteractive',\n",
              "                                                     [key], {});\n",
              "          if (!dataTable) return;\n",
              "\n",
              "          const docLinkHtml = 'Like what you see? Visit the ' +\n",
              "            '<a target=\"_blank\" href=https://colab.research.google.com/notebooks/data_table.ipynb>data table notebook</a>'\n",
              "            + ' to learn more about interactive tables.';\n",
              "          element.innerHTML = '';\n",
              "          dataTable['output_type'] = 'display_data';\n",
              "          await google.colab.output.renderOutput(dataTable, element);\n",
              "          const docLink = document.createElement('div');\n",
              "          docLink.innerHTML = docLinkHtml;\n",
              "          element.appendChild(docLink);\n",
              "        }\n",
              "      </script>\n",
              "    </div>\n",
              "  </div>\n",
              "  "
            ]
          },
          "metadata": {},
          "execution_count": 139
        }
      ]
    },
    {
      "cell_type": "code",
      "source": [
        "l=l.iloc[:,4]\n",
        "\n",
        "\n",
        "r = r.iloc[:,4]\n",
        "r.dtypes"
      ],
      "metadata": {
        "colab": {
          "base_uri": "https://localhost:8080/"
        },
        "id": "D3-FzqgnTV7T",
        "outputId": "b7fba3b6-740f-4788-a63b-2134ab316966"
      },
      "execution_count": 140,
      "outputs": [
        {
          "output_type": "execute_result",
          "data": {
            "text/plain": [
              "dtype('float64')"
            ]
          },
          "metadata": {},
          "execution_count": 140
        }
      ]
    },
    {
      "cell_type": "code",
      "source": [
        "r = r.astype('f')\n",
        "l =l.astype('f')"
      ],
      "metadata": {
        "id": "kEHGWolNUjbd"
      },
      "execution_count": 141,
      "outputs": []
    },
    {
      "cell_type": "code",
      "source": [
        "res ,x = scipy.stats.ttest_ind(l,r,equal_var=False)\n",
        "########result = (False , res[0][0] ,res[1][0])\n",
        "res"
      ],
      "metadata": {
        "colab": {
          "base_uri": "https://localhost:8080/"
        },
        "id": "NKypsqwsUWob",
        "outputId": "3de6c8da-b073-425f-8dfd-bbd9cc5bfdd9"
      },
      "execution_count": 151,
      "outputs": [
        {
          "output_type": "execute_result",
          "data": {
            "text/plain": [
              "9.9356987826511"
            ]
          },
          "metadata": {},
          "execution_count": 151
        }
      ]
    },
    {
      "cell_type": "code",
      "source": [
        "l = np.array(df[df.handedness == 'L'])\n",
        "r = np.array(df[df.handedness == 'R'])\n",
        "\n",
        "k=[]\n",
        "j=[]\n",
        "for i in range(len(l)) : \n",
        "   k.append(1)\n",
        " \n",
        "for i in range(len(r)) : \n",
        "   j.append(0)  \n",
        "\n",
        "scipy.stats.ttest_ind(k,j,equal_var=False)"
      ],
      "metadata": {
        "colab": {
          "base_uri": "https://localhost:8080/"
        },
        "id": "G9PPLdehK8gA",
        "outputId": "74682851-fa82-4c75-b4c7-f2a5c00a206a"
      },
      "execution_count": 41,
      "outputs": [
        {
          "output_type": "execute_result",
          "data": {
            "text/plain": [
              "Ttest_indResult(statistic=inf, pvalue=0.0)"
            ]
          },
          "metadata": {},
          "execution_count": 41
        }
      ]
    },
    {
      "cell_type": "code",
      "source": [
        "import pandas \n",
        "import scipy.stats\n",
        "import numpy \n",
        "\n",
        "def compare_averages(filename):\n",
        "   \n",
        "    df = pandas.read_csv(filename)\n",
        "    df.dropna\n",
        "    \n",
        "    l = df[df.handedness == 'L']\n",
        "    r =df[df.handedness == 'R']\n",
        "    l.drop( ['name','handedness'],axis = 1)\n",
        "    \n",
        "    l=l.iloc[:,4]\n",
        "    r = r.iloc[:,4]\n",
        "    \n",
        "    r = r.astype('f')\n",
        "    l =l.astype('f')\n",
        "    \n",
        "    t_value, p_value= scipy.stats.ttest_ind(l,r,equal_var=False)\n",
        "\n",
        "    null_hypothis_is = True\n",
        "\n",
        "    if t_value > 9.5 : \n",
        "      null_hypothis_is = False\n",
        "    else :   null_hypothis_is = True\n",
        "\n",
        "    result = (null_hypothis_is ,t_value  ,p_value)\n",
        "    \n",
        "    return result"
      ],
      "metadata": {
        "id": "4ymru9VRcjLk"
      },
      "execution_count": 152,
      "outputs": []
    },
    {
      "cell_type": "code",
      "source": [
        "compare_averages('/content/baseball_stats.csv')\n"
      ],
      "metadata": {
        "colab": {
          "base_uri": "https://localhost:8080/"
        },
        "id": "24HFm27Tck-v",
        "outputId": "d76903ba-7653-466b-f16b-532382092378"
      },
      "execution_count": 153,
      "outputs": [
        {
          "output_type": "execute_result",
          "data": {
            "text/plain": [
              "(False, 9.9356987826511, 3.810404511401037e-23)"
            ]
          },
          "metadata": {},
          "execution_count": 153
        }
      ]
    }
  ]
}